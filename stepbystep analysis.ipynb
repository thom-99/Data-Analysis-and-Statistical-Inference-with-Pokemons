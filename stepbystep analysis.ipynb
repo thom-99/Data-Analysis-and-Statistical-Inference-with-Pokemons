{
 "cells": [
  {
   "cell_type": "markdown",
   "id": "f9f980ce",
   "metadata": {},
   "source": [
    "if the p value is smaller than out significance level alpha then we can reject the null hypotesis that mean1=mean2 and we can confidently say that pokemons of water type have more HP on average than pokemons of non-water type\n",
    "if not, this would mean that the higher average of HP of water type pokemons is due to chance"
   ]
  },
  {
   "cell_type": "markdown",
   "id": "b37036f5",
   "metadata": {},
   "source": [
    "the first step is to import pandas and read the file containing the data of all the pokemons.\n",
    "make sure you have installed pandas correctly (https://pandas.pydata.org/pandas-docs/stable/getting_started/install.)"
   ]
  },
  {
   "cell_type": "code",
   "execution_count": 6,
   "id": "12c1c10b",
   "metadata": {},
   "outputs": [],
   "source": [
    "import pandas as pd \n",
    "df = pd.read_csv('pokemon_data.csv')"
   ]
  },
  {
   "cell_type": "markdown",
   "id": "a86d32ae",
   "metadata": {},
   "source": [
    "now we want to divide the pokemons in two categories: the water type pokemons and the non-water type pokemons"
   ]
  },
  {
   "cell_type": "code",
   "execution_count": 7,
   "id": "0a5e6ee1",
   "metadata": {},
   "outputs": [],
   "source": [
    "waterpoke=df.loc[df['Type 1']=='Water']\n",
    "nwpoke=df.loc[df['Type 1']!='Water']"
   ]
  },
  {
   "cell_type": "markdown",
   "id": "f7f0d65c",
   "metadata": {},
   "source": [
    "we now collect the values that we will need to use for the hypotesis testing that we will perform afterwards,\n",
    "when we test for the difference of two means we need the following values: means of the two distributions, standard deviations of the two distributions, number of samples of the two distribution. \n",
    "\n",
    "we get the number of samples by using the shape method and taking the first value, which represent the number of rows and logically also the number of pokemons in that category\n",
    "\n",
    "to get the other parameters we take advantage of the useful describe method"
   ]
  },
  {
   "cell_type": "code",
   "execution_count": 8,
   "id": "bf3de73c",
   "metadata": {},
   "outputs": [
    {
     "name": "stdout",
     "output_type": "stream",
     "text": [
      "count    112.000000\n",
      "mean      72.062500\n",
      "std       27.487026\n",
      "min       20.000000\n",
      "25%       52.250000\n",
      "50%       70.000000\n",
      "75%       90.250000\n",
      "max      170.000000\n",
      "Name: HP, dtype: float64\n",
      "\n",
      "count    688.000000\n",
      "mean      68.802326\n",
      "std       25.194299\n",
      "min        1.000000\n",
      "25%       50.000000\n",
      "50%       65.000000\n",
      "75%       80.000000\n",
      "max      255.000000\n",
      "Name: HP, dtype: float64\n",
      "\n",
      "112 688\n"
     ]
    }
   ],
   "source": [
    "n1=waterpoke.shape[0]\n",
    "n2=nwpoke.shape[0]\n",
    "print(waterpoke['HP'].describe())\n",
    "print()\n",
    "print(nwpoke['HP'].describe())\n",
    "print()\n",
    "print(n1,n2)"
   ]
  },
  {
   "cell_type": "markdown",
   "id": "1f425fb2",
   "metadata": {},
   "source": [
    "now we store all the values in easy to access variables, which we will use to perform computation later"
   ]
  },
  {
   "cell_type": "code",
   "execution_count": 17,
   "id": "01da65e2",
   "metadata": {},
   "outputs": [],
   "source": [
    "mean1=72.062500\n",
    "s1=27.487026\n",
    "\n",
    "mean2=68.802326\n",
    "s2=25.194299\n",
    "\n",
    "alpha=0.05"
   ]
  },
  {
   "cell_type": "markdown",
   "id": "8bf82f4f",
   "metadata": {},
   "source": [
    "we are now approaching the statistical inference part: our system of hypotesis has as a null hypotesis (H0) that the mean1=mean2, while the alternative is that mean1>mean2.\n",
    "thanks to a large sample size of both water type and non-water type pokemons, by virtue of the central limit theorem, we can assume that when standardized both distributions follow a standard gaussian.\n",
    "it is only left to calculate the test statistic use it to find the p-value which we will do with the help of the scipy.stats module. "
   ]
  },
  {
   "cell_type": "code",
   "execution_count": 21,
   "id": "0ce1bb39",
   "metadata": {},
   "outputs": [],
   "source": [
    "import scipy.stats as stats\n",
    "teststat=(mean1-mean2)/((s1/n1**0.5)+(s2/n2**0.5))\n",
    "p_value=stats.norm.sf(teststat)"
   ]
  },
  {
   "cell_type": "markdown",
   "id": "62ac4bed",
   "metadata": {},
   "source": [
    "if the p value is smaller than the significance level alpha, I can reject the Null hypotesis that the mean of water type pokemons is the same as the non-water type pokemons\n",
    "if this turns out not to be the case this means that the bigger HP average of water type pokemons might be due to chance"
   ]
  },
  {
   "cell_type": "code",
   "execution_count": 19,
   "id": "ed94e252",
   "metadata": {},
   "outputs": [
    {
     "name": "stdout",
     "output_type": "stream",
     "text": [
      "H0 cannot be rejected\n"
     ]
    }
   ],
   "source": [
    "if p_value<alpha:\n",
    "    print('H0 can be rejected')\n",
    "else:\n",
    "    print('H0 cannot be rejected')"
   ]
  },
  {
   "cell_type": "markdown",
   "id": "bc949756",
   "metadata": {},
   "source": [
    "this concludes our investigation"
   ]
  }
 ],
 "metadata": {
  "kernelspec": {
   "display_name": "Python 3 (ipykernel)",
   "language": "python",
   "name": "python3"
  },
  "language_info": {
   "codemirror_mode": {
    "name": "ipython",
    "version": 3
   },
   "file_extension": ".py",
   "mimetype": "text/x-python",
   "name": "python",
   "nbconvert_exporter": "python",
   "pygments_lexer": "ipython3",
   "version": "3.11.5"
  }
 },
 "nbformat": 4,
 "nbformat_minor": 5
}
